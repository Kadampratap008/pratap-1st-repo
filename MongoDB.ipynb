{
 "cells": [
  {
   "cell_type": "code",
   "execution_count": null,
   "id": "94078fcb",
   "metadata": {},
   "outputs": [],
   "source": [
    "mysql:\n",
    "\n",
    "workbench/jupyter notebook\n",
    "relational database\n",
    "structured data\n",
    "tables/relations"
   ]
  },
  {
   "cell_type": "code",
   "execution_count": null,
   "id": "3db4c8ed",
   "metadata": {},
   "outputs": [],
   "source": [
    "mongoDB:\n",
    "\n",
    "compass/jupyter notebook\n",
    "non-relational database\n",
    "unstrutured data\n",
    "json >> dictionary >> key:value"
   ]
  },
  {
   "cell_type": "code",
   "execution_count": null,
   "id": "141dd5d7",
   "metadata": {},
   "outputs": [],
   "source": [
    "emp:\n",
    "    empid,empname,salary,loc   contact\n",
    "    1001  rahul   70000  pune  no field\n",
    "    1002  rohit   60000  pune 8983720070\n",
    "    1003  snehal  '4000' pune \n",
    "    1004  dhiraj  50000  pune  mob no/email"
   ]
  },
  {
   "cell_type": "code",
   "execution_count": null,
   "id": "d57d92a3",
   "metadata": {},
   "outputs": [],
   "source": [
    "{'contact':{'mobno':value,'email':value}}"
   ]
  },
  {
   "cell_type": "code",
   "execution_count": null,
   "id": "e7306ee0",
   "metadata": {},
   "outputs": [],
   "source": [
    "databases >> database >> tables      >> rows     and columns\n",
    "database  >> database >> collections >> document      keys"
   ]
  },
  {
   "cell_type": "code",
   "execution_count": 3,
   "id": "c859b7ef",
   "metadata": {},
   "outputs": [],
   "source": [
    "import pandas as pd\n",
    "import pymongo"
   ]
  },
  {
   "cell_type": "code",
   "execution_count": 2,
   "id": "545001c0",
   "metadata": {},
   "outputs": [
    {
     "data": {
      "text/plain": [
       "MongoClient(host=['localhost:27017'], document_class=dict, tz_aware=False, connect=True)"
      ]
     },
     "execution_count": 2,
     "metadata": {},
     "output_type": "execute_result"
    }
   ],
   "source": [
    "client=pymongo.MongoClient('mongodb://localhost:27017')\n",
    "client"
   ]
  },
  {
   "cell_type": "markdown",
   "id": "a1d284c9",
   "metadata": {},
   "source": [
    "### operations"
   ]
  },
  {
   "cell_type": "code",
   "execution_count": null,
   "id": "26925b78",
   "metadata": {},
   "outputs": [],
   "source": [
    "1. create database\n",
    "2. create collection\n",
    "3. add document\n",
    "4. read data\n",
    "5. update data\n",
    "6. delete data"
   ]
  },
  {
   "cell_type": "markdown",
   "id": "cb1cce8b",
   "metadata": {},
   "source": [
    "### 1. create database/use database"
   ]
  },
  {
   "cell_type": "code",
   "execution_count": 4,
   "id": "849815da",
   "metadata": {},
   "outputs": [
    {
     "data": {
      "text/plain": [
       "Database(MongoClient(host=['localhost:27017'], document_class=dict, tz_aware=False, connect=True), 'stud_data')"
      ]
     },
     "execution_count": 4,
     "metadata": {},
     "output_type": "execute_result"
    }
   ],
   "source": [
    "db=client['stud_data']\n",
    "db"
   ]
  },
  {
   "cell_type": "code",
   "execution_count": 5,
   "id": "c2948fdc",
   "metadata": {},
   "outputs": [
    {
     "data": {
      "text/plain": [
       "['ML', 'admin', 'config', 'local']"
      ]
     },
     "execution_count": 5,
     "metadata": {},
     "output_type": "execute_result"
    }
   ],
   "source": [
    "client.list_database_names()"
   ]
  },
  {
   "cell_type": "markdown",
   "id": "538eaf61",
   "metadata": {},
   "source": [
    "### 2.create collection"
   ]
  },
  {
   "cell_type": "code",
   "execution_count": 6,
   "id": "d0f7bea3",
   "metadata": {},
   "outputs": [
    {
     "data": {
      "text/plain": [
       "Collection(Database(MongoClient(host=['localhost:27017'], document_class=dict, tz_aware=False, connect=True), 'stud_data'), 'student')"
      ]
     },
     "execution_count": 6,
     "metadata": {},
     "output_type": "execute_result"
    }
   ],
   "source": [
    "coll=db['student']\n",
    "coll"
   ]
  },
  {
   "cell_type": "code",
   "execution_count": 7,
   "id": "0bb8590c",
   "metadata": {},
   "outputs": [
    {
     "data": {
      "text/plain": [
       "[]"
      ]
     },
     "execution_count": 7,
     "metadata": {},
     "output_type": "execute_result"
    }
   ],
   "source": [
    "db.list_collection_names()"
   ]
  },
  {
   "cell_type": "markdown",
   "id": "e0f4d72a",
   "metadata": {},
   "source": [
    "### 3. insert document"
   ]
  },
  {
   "cell_type": "code",
   "execution_count": null,
   "id": "4a8881c8",
   "metadata": {},
   "outputs": [],
   "source": [
    "insert_one() : insert single document\n",
    "insert_many(): insert multiple documents"
   ]
  },
  {
   "cell_type": "markdown",
   "id": "b10dab80",
   "metadata": {},
   "source": [
    "#### 1. insert_one()"
   ]
  },
  {
   "cell_type": "code",
   "execution_count": null,
   "id": "7b604ced",
   "metadata": {},
   "outputs": [],
   "source": [
    "collection_name.insert_one({key:value})"
   ]
  },
  {
   "cell_type": "code",
   "execution_count": 8,
   "id": "232175f9",
   "metadata": {},
   "outputs": [
    {
     "data": {
      "text/plain": [
       "<pymongo.results.InsertOneResult at 0x10e94ffd0>"
      ]
     },
     "execution_count": 8,
     "metadata": {},
     "output_type": "execute_result"
    }
   ],
   "source": [
    "coll.insert_one({'rollno':101,'studname':'rahul','cgpa':7,'loc':'pune'})"
   ]
  },
  {
   "cell_type": "code",
   "execution_count": 9,
   "id": "3d1b662d",
   "metadata": {},
   "outputs": [
    {
     "data": {
      "text/plain": [
       "['student']"
      ]
     },
     "execution_count": 9,
     "metadata": {},
     "output_type": "execute_result"
    }
   ],
   "source": [
    "db.list_collection_names()"
   ]
  },
  {
   "cell_type": "code",
   "execution_count": 10,
   "id": "8ae8a8b9",
   "metadata": {},
   "outputs": [
    {
     "data": {
      "text/plain": [
       "['ML', 'admin', 'config', 'local', 'stud_data']"
      ]
     },
     "execution_count": 10,
     "metadata": {},
     "output_type": "execute_result"
    }
   ],
   "source": [
    "client.list_database_names()"
   ]
  },
  {
   "cell_type": "code",
   "execution_count": 11,
   "id": "24884527",
   "metadata": {},
   "outputs": [
    {
     "data": {
      "text/plain": [
       "<pymongo.results.InsertOneResult at 0x10828b2e0>"
      ]
     },
     "execution_count": 11,
     "metadata": {},
     "output_type": "execute_result"
    }
   ],
   "source": [
    "coll.insert_one({'rollno':101,'studname':'rohit','cgpa':8,'loc':'pune'})"
   ]
  },
  {
   "cell_type": "code",
   "execution_count": 12,
   "id": "e6fb0bc4",
   "metadata": {},
   "outputs": [
    {
     "data": {
      "text/plain": [
       "<pymongo.results.InsertOneResult at 0x1082c1f30>"
      ]
     },
     "execution_count": 12,
     "metadata": {},
     "output_type": "execute_result"
    }
   ],
   "source": [
    "coll.insert_one({'rollno':102,'studname':'snehal','cgpa':'6',\n",
    "                 'loc':'mumbai','contact':8983720070})"
   ]
  },
  {
   "cell_type": "code",
   "execution_count": 13,
   "id": "0fbdb564",
   "metadata": {},
   "outputs": [
    {
     "data": {
      "text/plain": [
       "<pymongo.results.InsertOneResult at 0x10e4fead0>"
      ]
     },
     "execution_count": 13,
     "metadata": {},
     "output_type": "execute_result"
    }
   ],
   "source": [
    "coll.insert_one({'rollno':103,'studname':'dhiraj','cgpa':7,\n",
    "                 'loc':'mumbai',\n",
    "                 'contact':{'mobno':8983720070,'email':'dhiraj@gmail.com'}})"
   ]
  },
  {
   "cell_type": "markdown",
   "id": "44d10ef4",
   "metadata": {},
   "source": [
    "#### 2. insert_many()"
   ]
  },
  {
   "cell_type": "code",
   "execution_count": null,
   "id": "b4d88a0f",
   "metadata": {},
   "outputs": [],
   "source": [
    "collection_name.insert_many([{},{}])"
   ]
  },
  {
   "cell_type": "code",
   "execution_count": 14,
   "id": "a728a0c8",
   "metadata": {},
   "outputs": [
    {
     "data": {
      "text/plain": [
       "<pymongo.results.InsertManyResult at 0x10828abc0>"
      ]
     },
     "execution_count": 14,
     "metadata": {},
     "output_type": "execute_result"
    }
   ],
   "source": [
    "coll.insert_many([{'rollno':104,'studname':'ashish','cgpa':6,'loc':'mumbai'},\n",
    "                {'rollno':105,'studname':'niraj','cgpa':7}])"
   ]
  },
  {
   "cell_type": "markdown",
   "id": "3ca7d767",
   "metadata": {},
   "source": [
    "### read data"
   ]
  },
  {
   "cell_type": "code",
   "execution_count": null,
   "id": "adbbd54b",
   "metadata": {},
   "outputs": [],
   "source": [
    "find_one(): read single document\n",
    "find():     read multiple documents"
   ]
  },
  {
   "cell_type": "markdown",
   "id": "6e196db9",
   "metadata": {},
   "source": [
    "#### 1. find_one()"
   ]
  },
  {
   "cell_type": "code",
   "execution_count": null,
   "id": "9c59a4ba",
   "metadata": {},
   "outputs": [],
   "source": [
    "collection_name.find_one({filter condition},{select})\n",
    "without filter condition: retruns first document of collection\n",
    "with filter condition   : retruns the first matched document"
   ]
  },
  {
   "cell_type": "markdown",
   "id": "b374e7a7",
   "metadata": {},
   "source": [
    "#### 1. find_one()"
   ]
  },
  {
   "cell_type": "code",
   "execution_count": 15,
   "id": "27f296b7",
   "metadata": {},
   "outputs": [
    {
     "data": {
      "text/plain": [
       "{'_id': ObjectId('63db2aefe4fd2dc734acea3f'),\n",
       " 'rollno': 101,\n",
       " 'studname': 'rahul',\n",
       " 'cgpa': 7,\n",
       " 'loc': 'pune'}"
      ]
     },
     "execution_count": 15,
     "metadata": {},
     "output_type": "execute_result"
    }
   ],
   "source": [
    "coll.find_one({})"
   ]
  },
  {
   "cell_type": "code",
   "execution_count": 16,
   "id": "fd6eea51",
   "metadata": {},
   "outputs": [
    {
     "data": {
      "text/plain": [
       "{'rollno': 101, 'studname': 'rahul', 'cgpa': 7, 'loc': 'pune'}"
      ]
     },
     "execution_count": 16,
     "metadata": {},
     "output_type": "execute_result"
    }
   ],
   "source": [
    "coll.find_one({},{'_id':0})"
   ]
  },
  {
   "cell_type": "code",
   "execution_count": 17,
   "id": "98ae0963",
   "metadata": {},
   "outputs": [
    {
     "data": {
      "text/plain": [
       "{'rollno': 101, 'studname': 'rahul', 'cgpa': 7}"
      ]
     },
     "execution_count": 17,
     "metadata": {},
     "output_type": "execute_result"
    }
   ],
   "source": [
    "coll.find_one({},{'_id':0,'loc':0})"
   ]
  },
  {
   "cell_type": "code",
   "execution_count": 18,
   "id": "af826de7",
   "metadata": {},
   "outputs": [
    {
     "data": {
      "text/plain": [
       "{'_id': ObjectId('63db2aefe4fd2dc734acea3f'), 'loc': 'pune'}"
      ]
     },
     "execution_count": 18,
     "metadata": {},
     "output_type": "execute_result"
    }
   ],
   "source": [
    "coll.find_one({},{'loc':1})"
   ]
  },
  {
   "cell_type": "code",
   "execution_count": 19,
   "id": "dea72367",
   "metadata": {},
   "outputs": [
    {
     "data": {
      "text/plain": [
       "{'loc': 'pune'}"
      ]
     },
     "execution_count": 19,
     "metadata": {},
     "output_type": "execute_result"
    }
   ],
   "source": [
    "coll.find_one({},{'loc':1,'_id':0})"
   ]
  },
  {
   "cell_type": "code",
   "execution_count": 20,
   "id": "6ad0d6ca",
   "metadata": {},
   "outputs": [
    {
     "ename": "OperationFailure",
     "evalue": "Cannot do exclusion on field studname in inclusion projection, full error: {'ok': 0.0, 'errmsg': 'Cannot do exclusion on field studname in inclusion projection', 'code': 31254, 'codeName': 'Location31254'}",
     "output_type": "error",
     "traceback": [
      "\u001b[0;31m---------------------------------------------------------------------------\u001b[0m",
      "\u001b[0;31mOperationFailure\u001b[0m                          Traceback (most recent call last)",
      "Input \u001b[0;32mIn [20]\u001b[0m, in \u001b[0;36m<cell line: 1>\u001b[0;34m()\u001b[0m\n\u001b[0;32m----> 1\u001b[0m \u001b[43mcoll\u001b[49m\u001b[38;5;241;43m.\u001b[39;49m\u001b[43mfind_one\u001b[49m\u001b[43m(\u001b[49m\u001b[43m{\u001b[49m\u001b[43m}\u001b[49m\u001b[43m,\u001b[49m\u001b[43m{\u001b[49m\u001b[38;5;124;43m'\u001b[39;49m\u001b[38;5;124;43mloc\u001b[39;49m\u001b[38;5;124;43m'\u001b[39;49m\u001b[43m:\u001b[49m\u001b[38;5;241;43m1\u001b[39;49m\u001b[43m,\u001b[49m\u001b[38;5;124;43m'\u001b[39;49m\u001b[38;5;124;43m_id\u001b[39;49m\u001b[38;5;124;43m'\u001b[39;49m\u001b[43m:\u001b[49m\u001b[38;5;241;43m0\u001b[39;49m\u001b[43m,\u001b[49m\u001b[38;5;124;43m'\u001b[39;49m\u001b[38;5;124;43mstudname\u001b[39;49m\u001b[38;5;124;43m'\u001b[39;49m\u001b[43m:\u001b[49m\u001b[38;5;241;43m0\u001b[39;49m\u001b[43m}\u001b[49m\u001b[43m)\u001b[49m\n",
      "File \u001b[0;32m/Library/Frameworks/Python.framework/Versions/3.10/lib/python3.10/site-packages/pymongo/collection.py:1419\u001b[0m, in \u001b[0;36mCollection.find_one\u001b[0;34m(self, filter, *args, **kwargs)\u001b[0m\n\u001b[1;32m   1417\u001b[0m     \u001b[38;5;28mfilter\u001b[39m \u001b[38;5;241m=\u001b[39m {\u001b[38;5;124m\"\u001b[39m\u001b[38;5;124m_id\u001b[39m\u001b[38;5;124m\"\u001b[39m: \u001b[38;5;28mfilter\u001b[39m}\n\u001b[1;32m   1418\u001b[0m cursor \u001b[38;5;241m=\u001b[39m \u001b[38;5;28mself\u001b[39m\u001b[38;5;241m.\u001b[39mfind(\u001b[38;5;28mfilter\u001b[39m, \u001b[38;5;241m*\u001b[39margs, \u001b[38;5;241m*\u001b[39m\u001b[38;5;241m*\u001b[39mkwargs)\n\u001b[0;32m-> 1419\u001b[0m \u001b[38;5;28;01mfor\u001b[39;00m result \u001b[38;5;129;01min\u001b[39;00m cursor\u001b[38;5;241m.\u001b[39mlimit(\u001b[38;5;241m-\u001b[39m\u001b[38;5;241m1\u001b[39m):\n\u001b[1;32m   1420\u001b[0m     \u001b[38;5;28;01mreturn\u001b[39;00m result\n\u001b[1;32m   1421\u001b[0m \u001b[38;5;28;01mreturn\u001b[39;00m \u001b[38;5;28;01mNone\u001b[39;00m\n",
      "File \u001b[0;32m/Library/Frameworks/Python.framework/Versions/3.10/lib/python3.10/site-packages/pymongo/cursor.py:1248\u001b[0m, in \u001b[0;36mCursor.next\u001b[0;34m(self)\u001b[0m\n\u001b[1;32m   1246\u001b[0m \u001b[38;5;28;01mif\u001b[39;00m \u001b[38;5;28mself\u001b[39m\u001b[38;5;241m.\u001b[39m__empty:\n\u001b[1;32m   1247\u001b[0m     \u001b[38;5;28;01mraise\u001b[39;00m \u001b[38;5;167;01mStopIteration\u001b[39;00m\n\u001b[0;32m-> 1248\u001b[0m \u001b[38;5;28;01mif\u001b[39;00m \u001b[38;5;28mlen\u001b[39m(\u001b[38;5;28mself\u001b[39m\u001b[38;5;241m.\u001b[39m__data) \u001b[38;5;129;01mor\u001b[39;00m \u001b[38;5;28;43mself\u001b[39;49m\u001b[38;5;241;43m.\u001b[39;49m\u001b[43m_refresh\u001b[49m\u001b[43m(\u001b[49m\u001b[43m)\u001b[49m:\n\u001b[1;32m   1249\u001b[0m     \u001b[38;5;28;01mreturn\u001b[39;00m \u001b[38;5;28mself\u001b[39m\u001b[38;5;241m.\u001b[39m__data\u001b[38;5;241m.\u001b[39mpopleft()\n\u001b[1;32m   1250\u001b[0m \u001b[38;5;28;01melse\u001b[39;00m:\n",
      "File \u001b[0;32m/Library/Frameworks/Python.framework/Versions/3.10/lib/python3.10/site-packages/pymongo/cursor.py:1165\u001b[0m, in \u001b[0;36mCursor._refresh\u001b[0;34m(self)\u001b[0m\n\u001b[1;32m   1143\u001b[0m         \u001b[38;5;28;01mraise\u001b[39;00m InvalidOperation(\n\u001b[1;32m   1144\u001b[0m             \u001b[38;5;124m\"\u001b[39m\u001b[38;5;124mPassing a \u001b[39m\u001b[38;5;124m'\u001b[39m\u001b[38;5;124mhint\u001b[39m\u001b[38;5;124m'\u001b[39m\u001b[38;5;124m is required when using the min/max query\u001b[39m\u001b[38;5;124m\"\u001b[39m\n\u001b[1;32m   1145\u001b[0m             \u001b[38;5;124m\"\u001b[39m\u001b[38;5;124m option to ensure the query utilizes the correct index\u001b[39m\u001b[38;5;124m\"\u001b[39m\n\u001b[1;32m   1146\u001b[0m         )\n\u001b[1;32m   1147\u001b[0m     q \u001b[38;5;241m=\u001b[39m \u001b[38;5;28mself\u001b[39m\u001b[38;5;241m.\u001b[39m_query_class(\n\u001b[1;32m   1148\u001b[0m         \u001b[38;5;28mself\u001b[39m\u001b[38;5;241m.\u001b[39m__query_flags,\n\u001b[1;32m   1149\u001b[0m         \u001b[38;5;28mself\u001b[39m\u001b[38;5;241m.\u001b[39m__collection\u001b[38;5;241m.\u001b[39mdatabase\u001b[38;5;241m.\u001b[39mname,\n\u001b[0;32m   (...)\u001b[0m\n\u001b[1;32m   1163\u001b[0m         \u001b[38;5;28mself\u001b[39m\u001b[38;5;241m.\u001b[39m__exhaust,\n\u001b[1;32m   1164\u001b[0m     )\n\u001b[0;32m-> 1165\u001b[0m     \u001b[38;5;28;43mself\u001b[39;49m\u001b[38;5;241;43m.\u001b[39;49m\u001b[43m__send_message\u001b[49m\u001b[43m(\u001b[49m\u001b[43mq\u001b[49m\u001b[43m)\u001b[49m\n\u001b[1;32m   1166\u001b[0m \u001b[38;5;28;01melif\u001b[39;00m \u001b[38;5;28mself\u001b[39m\u001b[38;5;241m.\u001b[39m__id:  \u001b[38;5;66;03m# Get More\u001b[39;00m\n\u001b[1;32m   1167\u001b[0m     \u001b[38;5;28;01mif\u001b[39;00m \u001b[38;5;28mself\u001b[39m\u001b[38;5;241m.\u001b[39m__limit:\n",
      "File \u001b[0;32m/Library/Frameworks/Python.framework/Versions/3.10/lib/python3.10/site-packages/pymongo/cursor.py:1052\u001b[0m, in \u001b[0;36mCursor.__send_message\u001b[0;34m(self, operation)\u001b[0m\n\u001b[1;32m   1049\u001b[0m     \u001b[38;5;28;01mraise\u001b[39;00m InvalidOperation(\u001b[38;5;124m\"\u001b[39m\u001b[38;5;124mexhaust cursors do not support auto encryption\u001b[39m\u001b[38;5;124m\"\u001b[39m)\n\u001b[1;32m   1051\u001b[0m \u001b[38;5;28;01mtry\u001b[39;00m:\n\u001b[0;32m-> 1052\u001b[0m     response \u001b[38;5;241m=\u001b[39m \u001b[43mclient\u001b[49m\u001b[38;5;241;43m.\u001b[39;49m\u001b[43m_run_operation\u001b[49m\u001b[43m(\u001b[49m\n\u001b[1;32m   1053\u001b[0m \u001b[43m        \u001b[49m\u001b[43moperation\u001b[49m\u001b[43m,\u001b[49m\u001b[43m \u001b[49m\u001b[38;5;28;43mself\u001b[39;49m\u001b[38;5;241;43m.\u001b[39;49m\u001b[43m_unpack_response\u001b[49m\u001b[43m,\u001b[49m\u001b[43m \u001b[49m\u001b[43maddress\u001b[49m\u001b[38;5;241;43m=\u001b[39;49m\u001b[38;5;28;43mself\u001b[39;49m\u001b[38;5;241;43m.\u001b[39;49m\u001b[43m__address\u001b[49m\n\u001b[1;32m   1054\u001b[0m \u001b[43m    \u001b[49m\u001b[43m)\u001b[49m\n\u001b[1;32m   1055\u001b[0m \u001b[38;5;28;01mexcept\u001b[39;00m OperationFailure \u001b[38;5;28;01mas\u001b[39;00m exc:\n\u001b[1;32m   1056\u001b[0m     \u001b[38;5;28;01mif\u001b[39;00m exc\u001b[38;5;241m.\u001b[39mcode \u001b[38;5;129;01min\u001b[39;00m _CURSOR_CLOSED_ERRORS \u001b[38;5;129;01mor\u001b[39;00m \u001b[38;5;28mself\u001b[39m\u001b[38;5;241m.\u001b[39m__exhaust:\n\u001b[1;32m   1057\u001b[0m         \u001b[38;5;66;03m# Don't send killCursors because the cursor is already closed.\u001b[39;00m\n",
      "File \u001b[0;32m/Library/Frameworks/Python.framework/Versions/3.10/lib/python3.10/site-packages/pymongo/mongo_client.py:1267\u001b[0m, in \u001b[0;36mMongoClient._run_operation\u001b[0;34m(self, operation, unpack_res, address)\u001b[0m\n\u001b[1;32m   1262\u001b[0m \u001b[38;5;28;01mdef\u001b[39;00m \u001b[38;5;21m_cmd\u001b[39m(session, server, sock_info, read_preference):\n\u001b[1;32m   1263\u001b[0m     \u001b[38;5;28;01mreturn\u001b[39;00m server\u001b[38;5;241m.\u001b[39mrun_operation(\n\u001b[1;32m   1264\u001b[0m         sock_info, operation, read_preference, \u001b[38;5;28mself\u001b[39m\u001b[38;5;241m.\u001b[39m_event_listeners, unpack_res\n\u001b[1;32m   1265\u001b[0m     )\n\u001b[0;32m-> 1267\u001b[0m \u001b[38;5;28;01mreturn\u001b[39;00m \u001b[38;5;28;43mself\u001b[39;49m\u001b[38;5;241;43m.\u001b[39;49m\u001b[43m_retryable_read\u001b[49m\u001b[43m(\u001b[49m\n\u001b[1;32m   1268\u001b[0m \u001b[43m    \u001b[49m\u001b[43m_cmd\u001b[49m\u001b[43m,\u001b[49m\n\u001b[1;32m   1269\u001b[0m \u001b[43m    \u001b[49m\u001b[43moperation\u001b[49m\u001b[38;5;241;43m.\u001b[39;49m\u001b[43mread_preference\u001b[49m\u001b[43m,\u001b[49m\n\u001b[1;32m   1270\u001b[0m \u001b[43m    \u001b[49m\u001b[43moperation\u001b[49m\u001b[38;5;241;43m.\u001b[39;49m\u001b[43msession\u001b[49m\u001b[43m,\u001b[49m\n\u001b[1;32m   1271\u001b[0m \u001b[43m    \u001b[49m\u001b[43maddress\u001b[49m\u001b[38;5;241;43m=\u001b[39;49m\u001b[43maddress\u001b[49m\u001b[43m,\u001b[49m\n\u001b[1;32m   1272\u001b[0m \u001b[43m    \u001b[49m\u001b[43mretryable\u001b[49m\u001b[38;5;241;43m=\u001b[39;49m\u001b[38;5;28;43misinstance\u001b[39;49m\u001b[43m(\u001b[49m\u001b[43moperation\u001b[49m\u001b[43m,\u001b[49m\u001b[43m \u001b[49m\u001b[43mmessage\u001b[49m\u001b[38;5;241;43m.\u001b[39;49m\u001b[43m_Query\u001b[49m\u001b[43m)\u001b[49m\u001b[43m,\u001b[49m\n\u001b[1;32m   1273\u001b[0m \u001b[43m\u001b[49m\u001b[43m)\u001b[49m\n",
      "File \u001b[0;32m/Library/Frameworks/Python.framework/Versions/3.10/lib/python3.10/site-packages/pymongo/mongo_client.py:1371\u001b[0m, in \u001b[0;36mMongoClient._retryable_read\u001b[0;34m(self, func, read_pref, session, address, retryable)\u001b[0m\n\u001b[1;32m   1369\u001b[0m             \u001b[38;5;28;01massert\u001b[39;00m last_error \u001b[38;5;129;01mis\u001b[39;00m \u001b[38;5;129;01mnot\u001b[39;00m \u001b[38;5;28;01mNone\u001b[39;00m\n\u001b[1;32m   1370\u001b[0m             \u001b[38;5;28;01mraise\u001b[39;00m last_error\n\u001b[0;32m-> 1371\u001b[0m         \u001b[38;5;28;01mreturn\u001b[39;00m \u001b[43mfunc\u001b[49m\u001b[43m(\u001b[49m\u001b[43msession\u001b[49m\u001b[43m,\u001b[49m\u001b[43m \u001b[49m\u001b[43mserver\u001b[49m\u001b[43m,\u001b[49m\u001b[43m \u001b[49m\u001b[43msock_info\u001b[49m\u001b[43m,\u001b[49m\u001b[43m \u001b[49m\u001b[43mread_pref\u001b[49m\u001b[43m)\u001b[49m\n\u001b[1;32m   1372\u001b[0m \u001b[38;5;28;01mexcept\u001b[39;00m ServerSelectionTimeoutError:\n\u001b[1;32m   1373\u001b[0m     \u001b[38;5;28;01mif\u001b[39;00m retrying:\n\u001b[1;32m   1374\u001b[0m         \u001b[38;5;66;03m# The application may think the write was never attempted\u001b[39;00m\n\u001b[1;32m   1375\u001b[0m         \u001b[38;5;66;03m# if we raise ServerSelectionTimeoutError on the retry\u001b[39;00m\n\u001b[1;32m   1376\u001b[0m         \u001b[38;5;66;03m# attempt. Raise the original exception instead.\u001b[39;00m\n",
      "File \u001b[0;32m/Library/Frameworks/Python.framework/Versions/3.10/lib/python3.10/site-packages/pymongo/mongo_client.py:1263\u001b[0m, in \u001b[0;36mMongoClient._run_operation.<locals>._cmd\u001b[0;34m(session, server, sock_info, read_preference)\u001b[0m\n\u001b[1;32m   1262\u001b[0m \u001b[38;5;28;01mdef\u001b[39;00m \u001b[38;5;21m_cmd\u001b[39m(session, server, sock_info, read_preference):\n\u001b[0;32m-> 1263\u001b[0m     \u001b[38;5;28;01mreturn\u001b[39;00m \u001b[43mserver\u001b[49m\u001b[38;5;241;43m.\u001b[39;49m\u001b[43mrun_operation\u001b[49m\u001b[43m(\u001b[49m\n\u001b[1;32m   1264\u001b[0m \u001b[43m        \u001b[49m\u001b[43msock_info\u001b[49m\u001b[43m,\u001b[49m\u001b[43m \u001b[49m\u001b[43moperation\u001b[49m\u001b[43m,\u001b[49m\u001b[43m \u001b[49m\u001b[43mread_preference\u001b[49m\u001b[43m,\u001b[49m\u001b[43m \u001b[49m\u001b[38;5;28;43mself\u001b[39;49m\u001b[38;5;241;43m.\u001b[39;49m\u001b[43m_event_listeners\u001b[49m\u001b[43m,\u001b[49m\u001b[43m \u001b[49m\u001b[43munpack_res\u001b[49m\n\u001b[1;32m   1265\u001b[0m \u001b[43m    \u001b[49m\u001b[43m)\u001b[49m\n",
      "File \u001b[0;32m/Library/Frameworks/Python.framework/Versions/3.10/lib/python3.10/site-packages/pymongo/server.py:134\u001b[0m, in \u001b[0;36mServer.run_operation\u001b[0;34m(self, sock_info, operation, read_preference, listeners, unpack_res)\u001b[0m\n\u001b[1;32m    132\u001b[0m         first \u001b[38;5;241m=\u001b[39m docs[\u001b[38;5;241m0\u001b[39m]\n\u001b[1;32m    133\u001b[0m         operation\u001b[38;5;241m.\u001b[39mclient\u001b[38;5;241m.\u001b[39m_process_response(first, operation\u001b[38;5;241m.\u001b[39msession)\n\u001b[0;32m--> 134\u001b[0m         \u001b[43m_check_command_response\u001b[49m\u001b[43m(\u001b[49m\u001b[43mfirst\u001b[49m\u001b[43m,\u001b[49m\u001b[43m \u001b[49m\u001b[43msock_info\u001b[49m\u001b[38;5;241;43m.\u001b[39;49m\u001b[43mmax_wire_version\u001b[49m\u001b[43m)\u001b[49m\n\u001b[1;32m    135\u001b[0m \u001b[38;5;28;01mexcept\u001b[39;00m \u001b[38;5;167;01mException\u001b[39;00m \u001b[38;5;28;01mas\u001b[39;00m exc:\n\u001b[1;32m    136\u001b[0m     \u001b[38;5;28;01mif\u001b[39;00m publish:\n",
      "File \u001b[0;32m/Library/Frameworks/Python.framework/Versions/3.10/lib/python3.10/site-packages/pymongo/helpers.py:180\u001b[0m, in \u001b[0;36m_check_command_response\u001b[0;34m(response, max_wire_version, allowable_errors, parse_write_concern_error)\u001b[0m\n\u001b[1;32m    177\u001b[0m \u001b[38;5;28;01melif\u001b[39;00m code \u001b[38;5;241m==\u001b[39m \u001b[38;5;241m43\u001b[39m:\n\u001b[1;32m    178\u001b[0m     \u001b[38;5;28;01mraise\u001b[39;00m CursorNotFound(errmsg, code, response, max_wire_version)\n\u001b[0;32m--> 180\u001b[0m \u001b[38;5;28;01mraise\u001b[39;00m OperationFailure(errmsg, code, response, max_wire_version)\n",
      "\u001b[0;31mOperationFailure\u001b[0m: Cannot do exclusion on field studname in inclusion projection, full error: {'ok': 0.0, 'errmsg': 'Cannot do exclusion on field studname in inclusion projection', 'code': 31254, 'codeName': 'Location31254'}"
     ]
    }
   ],
   "source": [
    "coll.find_one({},{'loc':1,'_id':0,'studname':0})"
   ]
  },
  {
   "cell_type": "code",
   "execution_count": null,
   "id": "f65f102d",
   "metadata": {},
   "outputs": [],
   "source": [
    "20 keys : read 4 keys : specify 1 for these 4 keys\n",
    "20 keys : skip 4 keys : specify 0 for these 4 keys"
   ]
  },
  {
   "cell_type": "code",
   "execution_count": 21,
   "id": "8975eb65",
   "metadata": {},
   "outputs": [
    {
     "data": {
      "text/plain": [
       "{'_id': ObjectId('63db2bc3e4fd2dc734acea41'),\n",
       " 'rollno': 102,\n",
       " 'studname': 'snehal',\n",
       " 'cgpa': '6',\n",
       " 'loc': 'mumbai',\n",
       " 'contact': 8983720070}"
      ]
     },
     "execution_count": 21,
     "metadata": {},
     "output_type": "execute_result"
    }
   ],
   "source": [
    "coll.find_one({'loc':'mumbai'})"
   ]
  },
  {
   "cell_type": "code",
   "execution_count": 23,
   "id": "37625b1e",
   "metadata": {},
   "outputs": [
    {
     "data": {
      "text/plain": [
       "{'rollno': 102, 'studname': 'snehal', 'cgpa': '6', 'contact': 8983720070}"
      ]
     },
     "execution_count": 23,
     "metadata": {},
     "output_type": "execute_result"
    }
   ],
   "source": [
    "coll.find_one({'loc':'mumbai'},{'_id':0,'loc':0})"
   ]
  },
  {
   "cell_type": "code",
   "execution_count": 24,
   "id": "84f430fb",
   "metadata": {},
   "outputs": [
    {
     "data": {
      "text/plain": [
       "{'loc': 'mumbai'}"
      ]
     },
     "execution_count": 24,
     "metadata": {},
     "output_type": "execute_result"
    }
   ],
   "source": [
    "coll.find_one({'loc':'mumbai'},{'_id':0,'loc':1})"
   ]
  },
  {
   "cell_type": "code",
   "execution_count": null,
   "id": "4255df5c",
   "metadata": {},
   "outputs": [],
   "source": [
    "$gt: greater than\n",
    "$lt: less than\n",
    "$gte: greater tahn equal to\n",
    "$lte: less than equal to\n",
    "$ne : not equal to\n",
    "$in : speicify multiple possible values"
   ]
  },
  {
   "cell_type": "code",
   "execution_count": 28,
   "id": "c96db1e7",
   "metadata": {},
   "outputs": [
    {
     "data": {
      "text/plain": [
       "{'loc': 'mumbai'}"
      ]
     },
     "execution_count": 28,
     "metadata": {},
     "output_type": "execute_result"
    }
   ],
   "source": [
    "coll.find_one({'cgpa':{'$lt':7}},{'_id':0,'loc':1})"
   ]
  },
  {
   "cell_type": "code",
   "execution_count": 30,
   "id": "b78992a7",
   "metadata": {},
   "outputs": [
    {
     "data": {
      "text/plain": [
       "{'rollno': 101, 'studname': 'rohit', 'cgpa': 8, 'loc': 'pune'}"
      ]
     },
     "execution_count": 30,
     "metadata": {},
     "output_type": "execute_result"
    }
   ],
   "source": [
    "coll.find_one({'cgpa':{'$gt':7}},{'_id':0})"
   ]
  },
  {
   "cell_type": "code",
   "execution_count": 31,
   "id": "7319a438",
   "metadata": {},
   "outputs": [
    {
     "data": {
      "text/plain": [
       "{'rollno': 104, 'studname': 'ashish', 'cgpa': 6, 'loc': 'mumbai'}"
      ]
     },
     "execution_count": 31,
     "metadata": {},
     "output_type": "execute_result"
    }
   ],
   "source": [
    "coll.find_one({'cgpa':6,'rollno':104},{'_id':0})"
   ]
  },
  {
   "cell_type": "code",
   "execution_count": 32,
   "id": "ea87cd12",
   "metadata": {},
   "outputs": [],
   "source": [
    "coll.find_one({'cgpa':8,'rollno':104},{'_id':0})"
   ]
  },
  {
   "cell_type": "code",
   "execution_count": 33,
   "id": "c44e6c2e",
   "metadata": {},
   "outputs": [
    {
     "data": {
      "text/plain": [
       "{'_id': ObjectId('63db2b93e4fd2dc734acea40'),\n",
       " 'rollno': 101,\n",
       " 'studname': 'rohit',\n",
       " 'cgpa': 8,\n",
       " 'loc': 'pune'}"
      ]
     },
     "execution_count": 33,
     "metadata": {},
     "output_type": "execute_result"
    }
   ],
   "source": [
    "coll.find_one({'$or':[{'cgpa':8},{'rollno':104}]})"
   ]
  },
  {
   "cell_type": "markdown",
   "id": "4709695e",
   "metadata": {},
   "source": [
    "#### 2. find()"
   ]
  },
  {
   "cell_type": "code",
   "execution_count": null,
   "id": "99543f01",
   "metadata": {},
   "outputs": [],
   "source": [
    "collection_name.find({filter condition},{sleect})\n",
    "without filter condition: retruns all documents of collection\n",
    "    ## select * from table_name;\n",
    "with filter condition   : retruns all matched document\n",
    "    ## select * from table_name where condition;"
   ]
  },
  {
   "cell_type": "code",
   "execution_count": 35,
   "id": "6aedb9fa",
   "metadata": {},
   "outputs": [
    {
     "data": {
      "text/plain": [
       "[{'rollno': 101, 'studname': 'rahul', 'cgpa': 7, 'loc': 'pune'},\n",
       " {'rollno': 101, 'studname': 'rohit', 'cgpa': 8, 'loc': 'pune'},\n",
       " {'rollno': 102,\n",
       "  'studname': 'snehal',\n",
       "  'cgpa': '6',\n",
       "  'loc': 'mumbai',\n",
       "  'contact': 8983720070},\n",
       " {'rollno': 103,\n",
       "  'studname': 'dhiraj',\n",
       "  'cgpa': 7,\n",
       "  'loc': 'mumbai',\n",
       "  'contact': {'mobno': 8983720070, 'email': 'dhiraj@gmail.com'}},\n",
       " {'rollno': 104, 'studname': 'ashish', 'cgpa': 6, 'loc': 'mumbai'},\n",
       " {'rollno': 105, 'studname': 'niraj', 'cgpa': 7}]"
      ]
     },
     "execution_count": 35,
     "metadata": {},
     "output_type": "execute_result"
    }
   ],
   "source": [
    "data=coll.find({},{'_id':0})\n",
    "list(data)"
   ]
  },
  {
   "cell_type": "code",
   "execution_count": 36,
   "id": "d0312b1d",
   "metadata": {},
   "outputs": [
    {
     "data": {
      "text/plain": [
       "[{'rollno': 102,\n",
       "  'studname': 'snehal',\n",
       "  'cgpa': '6',\n",
       "  'loc': 'mumbai',\n",
       "  'contact': 8983720070},\n",
       " {'rollno': 103,\n",
       "  'studname': 'dhiraj',\n",
       "  'cgpa': 7,\n",
       "  'loc': 'mumbai',\n",
       "  'contact': {'mobno': 8983720070, 'email': 'dhiraj@gmail.com'}},\n",
       " {'rollno': 104, 'studname': 'ashish', 'cgpa': 6, 'loc': 'mumbai'}]"
      ]
     },
     "execution_count": 36,
     "metadata": {},
     "output_type": "execute_result"
    }
   ],
   "source": [
    "data=coll.find({'loc':'mumbai'},{'_id':0})\n",
    "list(data)"
   ]
  },
  {
   "cell_type": "code",
   "execution_count": 37,
   "id": "c09e54cd",
   "metadata": {},
   "outputs": [
    {
     "data": {
      "text/plain": [
       "[{'rollno': 101, 'studname': 'rahul', 'cgpa': 7, 'loc': 'pune'},\n",
       " {'rollno': 103,\n",
       "  'studname': 'dhiraj',\n",
       "  'cgpa': 7,\n",
       "  'loc': 'mumbai',\n",
       "  'contact': {'mobno': 8983720070, 'email': 'dhiraj@gmail.com'}},\n",
       " {'rollno': 105, 'studname': 'niraj', 'cgpa': 7}]"
      ]
     },
     "execution_count": 37,
     "metadata": {},
     "output_type": "execute_result"
    }
   ],
   "source": [
    "data=coll.find({'cgpa':7},{'_id':0})\n",
    "list(data)"
   ]
  },
  {
   "cell_type": "code",
   "execution_count": 38,
   "id": "fa7d0005",
   "metadata": {},
   "outputs": [
    {
     "data": {
      "text/plain": [
       "[{'rollno': 101, 'studname': 'rahul', 'cgpa': 7, 'loc': 'pune'},\n",
       " {'rollno': 101, 'studname': 'rohit', 'cgpa': 8, 'loc': 'pune'}]"
      ]
     },
     "execution_count": 38,
     "metadata": {},
     "output_type": "execute_result"
    }
   ],
   "source": [
    "data=coll.find({'rollno':101},{'_id':0})\n",
    "list(data)"
   ]
  },
  {
   "cell_type": "code",
   "execution_count": 39,
   "id": "3303ee8e",
   "metadata": {},
   "outputs": [
    {
     "data": {
      "text/plain": [
       "[{'_id': ObjectId('63db2b93e4fd2dc734acea40'),\n",
       "  'rollno': 101,\n",
       "  'studname': 'rohit',\n",
       "  'cgpa': 8,\n",
       "  'loc': 'pune'},\n",
       " {'_id': ObjectId('63db2ddfe4fd2dc734acea43'),\n",
       "  'rollno': 104,\n",
       "  'studname': 'ashish',\n",
       "  'cgpa': 6,\n",
       "  'loc': 'mumbai'}]"
      ]
     },
     "execution_count": 39,
     "metadata": {},
     "output_type": "execute_result"
    }
   ],
   "source": [
    "data=coll.find({'$or':[{'cgpa':8},{'rollno':104}]})\n",
    "list(data)"
   ]
  },
  {
   "cell_type": "code",
   "execution_count": 43,
   "id": "133df940",
   "metadata": {},
   "outputs": [
    {
     "data": {
      "text/plain": [
       "[{'rollno': 102,\n",
       "  'studname': 'snehal',\n",
       "  'cgpa': '6',\n",
       "  'loc': 'mumbai',\n",
       "  'contact': 8983720070},\n",
       " {'rollno': 103,\n",
       "  'studname': 'dhiraj',\n",
       "  'cgpa': 7,\n",
       "  'loc': 'mumbai',\n",
       "  'contact': {'mobno': 8983720070, 'email': 'dhiraj@gmail.com'}},\n",
       " {'rollno': 104, 'studname': 'ashish', 'cgpa': 6, 'loc': 'mumbai'}]"
      ]
     },
     "execution_count": 43,
     "metadata": {},
     "output_type": "execute_result"
    }
   ],
   "source": [
    "data=coll.find({'rollno':{'$in':[102,103,104]}},{'_id':0})\n",
    "list(data)"
   ]
  },
  {
   "cell_type": "code",
   "execution_count": 44,
   "id": "0e96f2b0",
   "metadata": {},
   "outputs": [
    {
     "data": {
      "text/html": [
       "<div>\n",
       "<style scoped>\n",
       "    .dataframe tbody tr th:only-of-type {\n",
       "        vertical-align: middle;\n",
       "    }\n",
       "\n",
       "    .dataframe tbody tr th {\n",
       "        vertical-align: top;\n",
       "    }\n",
       "\n",
       "    .dataframe thead th {\n",
       "        text-align: right;\n",
       "    }\n",
       "</style>\n",
       "<table border=\"1\" class=\"dataframe\">\n",
       "  <thead>\n",
       "    <tr style=\"text-align: right;\">\n",
       "      <th></th>\n",
       "      <th>rollno</th>\n",
       "      <th>studname</th>\n",
       "      <th>cgpa</th>\n",
       "      <th>loc</th>\n",
       "      <th>contact</th>\n",
       "    </tr>\n",
       "  </thead>\n",
       "  <tbody>\n",
       "    <tr>\n",
       "      <th>0</th>\n",
       "      <td>102</td>\n",
       "      <td>snehal</td>\n",
       "      <td>6</td>\n",
       "      <td>mumbai</td>\n",
       "      <td>8983720070</td>\n",
       "    </tr>\n",
       "    <tr>\n",
       "      <th>1</th>\n",
       "      <td>103</td>\n",
       "      <td>dhiraj</td>\n",
       "      <td>7</td>\n",
       "      <td>mumbai</td>\n",
       "      <td>{'mobno': 8983720070, 'email': 'dhiraj@gmail.c...</td>\n",
       "    </tr>\n",
       "    <tr>\n",
       "      <th>2</th>\n",
       "      <td>104</td>\n",
       "      <td>ashish</td>\n",
       "      <td>6</td>\n",
       "      <td>mumbai</td>\n",
       "      <td>NaN</td>\n",
       "    </tr>\n",
       "  </tbody>\n",
       "</table>\n",
       "</div>"
      ],
      "text/plain": [
       "   rollno studname cgpa     loc  \\\n",
       "0     102   snehal    6  mumbai   \n",
       "1     103   dhiraj    7  mumbai   \n",
       "2     104   ashish    6  mumbai   \n",
       "\n",
       "                                             contact  \n",
       "0                                         8983720070  \n",
       "1  {'mobno': 8983720070, 'email': 'dhiraj@gmail.c...  \n",
       "2                                                NaN  "
      ]
     },
     "execution_count": 44,
     "metadata": {},
     "output_type": "execute_result"
    }
   ],
   "source": [
    "data=coll.find({'rollno':{'$in':[102,103,104]}},{'_id':0})\n",
    "data1=list(data)\n",
    "df=pd.DataFrame(data1)\n",
    "df"
   ]
  },
  {
   "cell_type": "markdown",
   "id": "447c3e97",
   "metadata": {},
   "source": [
    "### update data"
   ]
  },
  {
   "cell_type": "code",
   "execution_count": null,
   "id": "daf64252",
   "metadata": {},
   "outputs": [],
   "source": [
    "update_one() : update a single document\n",
    "update_many(): update multiple documents"
   ]
  },
  {
   "cell_type": "markdown",
   "id": "aa21ff07",
   "metadata": {},
   "source": [
    "#### 1. update_one()"
   ]
  },
  {
   "cell_type": "code",
   "execution_count": null,
   "id": "37f8bc42",
   "metadata": {},
   "outputs": [],
   "source": [
    "collection_name.update_one({filter condition},{'$set':{'key':new value}})\n",
    "without filter condition: update first document of collection\n",
    "with filter condition   : update the first matched document"
   ]
  },
  {
   "cell_type": "code",
   "execution_count": 45,
   "id": "fcbcf22a",
   "metadata": {},
   "outputs": [
    {
     "data": {
      "text/plain": [
       "<pymongo.results.UpdateResult at 0x126d221a0>"
      ]
     },
     "execution_count": 45,
     "metadata": {},
     "output_type": "execute_result"
    }
   ],
   "source": [
    "coll.update_one({},{'$set':{'rollno':106}})"
   ]
  },
  {
   "cell_type": "code",
   "execution_count": 46,
   "id": "72e594f2",
   "metadata": {},
   "outputs": [
    {
     "data": {
      "text/plain": [
       "<pymongo.results.UpdateResult at 0x11f5c8580>"
      ]
     },
     "execution_count": 46,
     "metadata": {},
     "output_type": "execute_result"
    }
   ],
   "source": [
    "coll.update_one({},{'$set':{'contact':9028299590}})"
   ]
  },
  {
   "cell_type": "code",
   "execution_count": 47,
   "id": "b6db0c9c",
   "metadata": {},
   "outputs": [
    {
     "data": {
      "text/plain": [
       "<pymongo.results.UpdateResult at 0x126d00e20>"
      ]
     },
     "execution_count": 47,
     "metadata": {},
     "output_type": "execute_result"
    }
   ],
   "source": [
    "coll.update_one({'loc':'mumbai'},{'$set':{'cgpa':6}})"
   ]
  },
  {
   "cell_type": "markdown",
   "id": "660a77ab",
   "metadata": {},
   "source": [
    "#### 2. update_many()"
   ]
  },
  {
   "cell_type": "code",
   "execution_count": null,
   "id": "d84101f4",
   "metadata": {},
   "outputs": [],
   "source": [
    "collection_name.update_many({filter condition},{'$set':{'key':new value}})\n",
    "without filter condition: update all documents of collection\n",
    "    ## update table_name set column=value;\n",
    "with filter condition   : update all matched document\n",
    "    ## update table_name set column=value where condition;   "
   ]
  },
  {
   "cell_type": "code",
   "execution_count": 49,
   "id": "e92d0c6a",
   "metadata": {},
   "outputs": [
    {
     "data": {
      "text/plain": [
       "<pymongo.results.UpdateResult at 0x10eabcb20>"
      ]
     },
     "execution_count": 49,
     "metadata": {},
     "output_type": "execute_result"
    }
   ],
   "source": [
    "coll.update_many({},{'$set':{'branch':'comp'}})"
   ]
  },
  {
   "cell_type": "code",
   "execution_count": 50,
   "id": "160bb6ed",
   "metadata": {},
   "outputs": [
    {
     "data": {
      "text/plain": [
       "<pymongo.results.UpdateResult at 0x126d00dc0>"
      ]
     },
     "execution_count": 50,
     "metadata": {},
     "output_type": "execute_result"
    }
   ],
   "source": [
    "coll.update_many({},{'$set':{'loc':'chennai'}})"
   ]
  },
  {
   "cell_type": "code",
   "execution_count": 52,
   "id": "4f7e65a5",
   "metadata": {},
   "outputs": [
    {
     "data": {
      "text/plain": [
       "<pymongo.results.UpdateResult at 0x126ccc1f0>"
      ]
     },
     "execution_count": 52,
     "metadata": {},
     "output_type": "execute_result"
    }
   ],
   "source": [
    "coll.update_many({'rollno':{'$in':[104,105]}},{'$set':{'loc':'pune'}})"
   ]
  },
  {
   "cell_type": "code",
   "execution_count": 55,
   "id": "a6bd0eac",
   "metadata": {},
   "outputs": [
    {
     "data": {
      "text/plain": [
       "<pymongo.results.UpdateResult at 0x126d00f70>"
      ]
     },
     "execution_count": 55,
     "metadata": {},
     "output_type": "execute_result"
    }
   ],
   "source": [
    "coll.update_many({'cgpa':7},{'$set':{'loc':'mumbai'}})"
   ]
  },
  {
   "cell_type": "markdown",
   "id": "9db1c87d",
   "metadata": {},
   "source": [
    "### delete data"
   ]
  },
  {
   "cell_type": "code",
   "execution_count": null,
   "id": "9b6bba0b",
   "metadata": {},
   "outputs": [],
   "source": [
    "delete_one(): delete single document\n",
    "delete_many(): delete multiple documents"
   ]
  },
  {
   "cell_type": "markdown",
   "id": "ec6969e3",
   "metadata": {},
   "source": [
    "#### 1. delete_one()"
   ]
  },
  {
   "cell_type": "code",
   "execution_count": null,
   "id": "0f0a0b0b",
   "metadata": {},
   "outputs": [],
   "source": [
    "collection_name.delete_one({filter condition})\n",
    "without filter condition: delete first document of collection\n",
    "with filter condition   : delete the first matched document"
   ]
  },
  {
   "cell_type": "code",
   "execution_count": 56,
   "id": "c014a75a",
   "metadata": {},
   "outputs": [
    {
     "data": {
      "text/plain": [
       "<pymongo.results.DeleteResult at 0x126d017b0>"
      ]
     },
     "execution_count": 56,
     "metadata": {},
     "output_type": "execute_result"
    }
   ],
   "source": [
    "coll.delete_one({'cgpa':8})"
   ]
  },
  {
   "cell_type": "code",
   "execution_count": 57,
   "id": "33471b7a",
   "metadata": {},
   "outputs": [
    {
     "data": {
      "text/plain": [
       "<pymongo.results.DeleteResult at 0x10eabd000>"
      ]
     },
     "execution_count": 57,
     "metadata": {},
     "output_type": "execute_result"
    }
   ],
   "source": [
    "coll.delete_one({})"
   ]
  },
  {
   "cell_type": "markdown",
   "id": "8a1da147",
   "metadata": {},
   "source": [
    "#### delete_many()"
   ]
  },
  {
   "cell_type": "code",
   "execution_count": null,
   "id": "69da0f53",
   "metadata": {},
   "outputs": [],
   "source": [
    "collection_name.delete_many({filter condition})\n",
    "without filter condition: delete all documents of collection\n",
    "    ## delete from table_name;\n",
    "with filter condition   : delete all matched document\n",
    "     ## delete from table_name where condition;"
   ]
  },
  {
   "cell_type": "code",
   "execution_count": 58,
   "id": "35635cbd",
   "metadata": {},
   "outputs": [
    {
     "data": {
      "text/plain": [
       "<pymongo.results.DeleteResult at 0x126d21f60>"
      ]
     },
     "execution_count": 58,
     "metadata": {},
     "output_type": "execute_result"
    }
   ],
   "source": [
    "coll.delete_many({'cgpa':7})"
   ]
  },
  {
   "cell_type": "code",
   "execution_count": 59,
   "id": "984c73ff",
   "metadata": {},
   "outputs": [
    {
     "data": {
      "text/plain": [
       "<pymongo.results.DeleteResult at 0x126d21e70>"
      ]
     },
     "execution_count": 59,
     "metadata": {},
     "output_type": "execute_result"
    }
   ],
   "source": [
    "coll.delete_many({})"
   ]
  },
  {
   "cell_type": "markdown",
   "id": "b725a746",
   "metadata": {},
   "source": [
    "### delete collection"
   ]
  },
  {
   "cell_type": "code",
   "execution_count": 60,
   "id": "5dde4f9d",
   "metadata": {},
   "outputs": [],
   "source": [
    "coll.drop()"
   ]
  },
  {
   "cell_type": "markdown",
   "id": "110a5da4",
   "metadata": {},
   "source": [
    "### delete database"
   ]
  },
  {
   "cell_type": "code",
   "execution_count": 61,
   "id": "78f6a256",
   "metadata": {},
   "outputs": [],
   "source": [
    "client.drop_database('stud_data')"
   ]
  },
  {
   "cell_type": "markdown",
   "id": "31e0f006",
   "metadata": {},
   "source": [
    "#### import csv file into mongo collection"
   ]
  },
  {
   "cell_type": "code",
   "execution_count": 64,
   "id": "35466a1d",
   "metadata": {},
   "outputs": [
    {
     "data": {
      "text/plain": [
       "<pymongo.results.InsertManyResult at 0x10eabc160>"
      ]
     },
     "execution_count": 64,
     "metadata": {},
     "output_type": "execute_result"
    }
   ],
   "source": [
    "df=pd.read_csv('emp.csv')\n",
    "data=df.to_dict(orient='records')\n",
    "db=client['company']\n",
    "db.emp.insert_many(data)"
   ]
  },
  {
   "cell_type": "markdown",
   "id": "0c827525",
   "metadata": {},
   "source": [
    "#### import json into mongo collection"
   ]
  },
  {
   "cell_type": "code",
   "execution_count": 65,
   "id": "5d750343",
   "metadata": {},
   "outputs": [],
   "source": [
    "import json"
   ]
  },
  {
   "cell_type": "code",
   "execution_count": 67,
   "id": "c655e28e",
   "metadata": {},
   "outputs": [
    {
     "data": {
      "text/plain": [
       "<pymongo.results.InsertManyResult at 0x126d5c5b0>"
      ]
     },
     "execution_count": 67,
     "metadata": {},
     "output_type": "execute_result"
    }
   ],
   "source": [
    "f=open('iris.json')\n",
    "data=json.load(f)\n",
    "db.iris.insert_many(data)"
   ]
  },
  {
   "cell_type": "code",
   "execution_count": null,
   "id": "145cda4a",
   "metadata": {},
   "outputs": [],
   "source": []
  }
 ],
 "metadata": {
  "kernelspec": {
   "display_name": "Python 3 (ipykernel)",
   "language": "python",
   "name": "python3"
  },
  "language_info": {
   "codemirror_mode": {
    "name": "ipython",
    "version": 3
   },
   "file_extension": ".py",
   "mimetype": "text/x-python",
   "name": "python",
   "nbconvert_exporter": "python",
   "pygments_lexer": "ipython3",
   "version": "3.9.12"
  }
 },
 "nbformat": 4,
 "nbformat_minor": 5
}
